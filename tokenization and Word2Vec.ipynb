{
 "cells": [
  {
   "cell_type": "markdown",
   "metadata": {},
   "source": [
    "# Problem 2 : Data Engineering Challenge"
   ]
  },
  {
   "cell_type": "markdown",
   "metadata": {},
   "source": [
    "## Task1 (Data Structuring):"
   ]
  },
  {
   "cell_type": "code",
   "execution_count": 11,
   "metadata": {},
   "outputs": [],
   "source": [
    "import os\n",
    "import csv"
   ]
  },
  {
   "cell_type": "code",
   "execution_count": 12,
   "metadata": {},
   "outputs": [],
   "source": [
    "# Path to the folder containing the article data\n",
    "folder_path = \"BBC_articles\"\n",
    "\n",
    "# List to store article data\n",
    "articles_data = []\n",
    "\n",
    "# Iterate over each file in the folder\n",
    "for filename in os.listdir(folder_path):\n",
    "    # Extract article ID and category from the filename\n",
    "    article_id, category = filename.split(\"_\")\n",
    "    # Read the content of the text file\n",
    "    with open(os.path.join(folder_path, filename), \"r\", encoding=\"utf-8\") as file:\n",
    "        # Read contents of file and replace the newline with a space as the same paragraph may span multiple rows\n",
    "        text = file.read().replace(\"\\n\", \" \")\n",
    "    # Append article data to the list\n",
    "    articles_data.append({\"article_id\": article_id, \"text\": text, \"category\": category})\n"
   ]
  },
  {
   "cell_type": "code",
   "execution_count": 13,
   "metadata": {},
   "outputs": [],
   "source": [
    "# Write the data to bbc_articles.csv\n",
    "csv_file_path = \"bbc_articles.csv\"\n",
    "with open(csv_file_path, \"w\", newline=\"\", encoding=\"utf-8\") as csvfile:\n",
    "    # Define the CSV writer\n",
    "    writer = csv.DictWriter(csvfile, fieldnames=[\"article_id\", \"text\", \"category\"])\n",
    "    # Write the header\n",
    "    writer.writeheader()\n",
    "    # Write the article data\n",
    "    writer.writerows(articles_data)\n"
   ]
  },
  {
   "cell_type": "markdown",
   "metadata": {},
   "source": [
    "## Task 2 (Data Preprocessing for Model Training):"
   ]
  },
  {
   "cell_type": "code",
   "execution_count": 14,
   "metadata": {},
   "outputs": [],
   "source": [
    "import pandas as pd\n",
    "import nltk\n",
    "from nltk.corpus import stopwords\n",
    "import string\n",
    "\n",
    "# Read the articles csv file into a DataFrame\n",
    "df = pd.read_csv(\"bbc_articles.csv\")"
   ]
  },
  {
   "cell_type": "markdown",
   "metadata": {},
   "source": [
    "#### Tokenizing"
   ]
  },
  {
   "cell_type": "code",
   "execution_count": 15,
   "metadata": {},
   "outputs": [
    {
     "name": "stderr",
     "output_type": "stream",
     "text": [
      "[nltk_data] Downloading package punkt to\n",
      "[nltk_data]     C:\\Users\\USER\\AppData\\Roaming\\nltk_data...\n",
      "[nltk_data]   Package punkt is already up-to-date!\n",
      "[nltk_data] Downloading package stopwords to\n",
      "[nltk_data]     C:\\Users\\USER\\AppData\\Roaming\\nltk_data...\n",
      "[nltk_data]   Package stopwords is already up-to-date!\n"
     ]
    },
    {
     "data": {
      "text/plain": [
       "True"
      ]
     },
     "execution_count": 15,
     "metadata": {},
     "output_type": "execute_result"
    }
   ],
   "source": [
    "# Tokenize and preprocess the text data\n",
    "# Download the punkt tokenizer and a list of stopwords from nltk\n",
    "nltk.download('punkt')\n",
    "nltk.download('stopwords')"
   ]
  },
  {
   "cell_type": "code",
   "execution_count": 16,
   "metadata": {},
   "outputs": [],
   "source": [
    "# Custom tokenizer function\n",
    "def custom_tokenizer(text):\n",
    "    # Tokenize the text\n",
    "    tokens = nltk.word_tokenize(text)\n",
    "    # Lowercase the tokens\n",
    "    tokens = [token.lower() for token in tokens]\n",
    "    # Remove stopwords and punctuation\n",
    "    stop_words = set(stopwords.words('english'))\n",
    "    tokens = [token for token in tokens if token not in stop_words and token not in string.punctuation]\n",
    "    return tokens"
   ]
  },
  {
   "cell_type": "code",
   "execution_count": 17,
   "metadata": {},
   "outputs": [],
   "source": [
    "# Apply custom tokenizer to text column\n",
    "df['tokenized_text'] = df['text'].apply(custom_tokenizer)"
   ]
  },
  {
   "cell_type": "markdown",
   "metadata": {},
   "source": [
    "#### Vectorization using Word2Vec"
   ]
  },
  {
   "cell_type": "code",
   "execution_count": 18,
   "metadata": {},
   "outputs": [],
   "source": [
    "# Train Word2Vec model for vectorized representation of each word in dataset\n",
    "from gensim.models import Word2Vec\n",
    "# For practical purposes, word_embedding_vector_size should take 100+ size\n",
    "# However for the purpose of completing the task and to save resources,\n",
    "# The size is restricted to 10\n",
    "word_embedding_vector_size=10\n",
    "word2vec_model = Word2Vec(df['tokenized_text'], vector_size=word_embedding_vector_size, window=5, min_count=1, workers=4)"
   ]
  },
  {
   "cell_type": "code",
   "execution_count": 19,
   "metadata": {},
   "outputs": [
    {
     "data": {
      "text/plain": [
       "(1603323, 1636945)"
      ]
     },
     "execution_count": 19,
     "metadata": {},
     "output_type": "execute_result"
    }
   ],
   "source": [
    "# Training the word2vec model: provide the total number of sentences to train from, since we train from the same data used to build\n",
    "# vocab, we can use model.corpus_count\n",
    "word2vec_model.train(df['tokenized_text'],total_examples=word2vec_model.corpus_count,epochs=5)"
   ]
  },
  {
   "cell_type": "code",
   "execution_count": 20,
   "metadata": {},
   "outputs": [],
   "source": [
    "# Function that takes a sentence in tokenized form and converts each token to its corresponding\n",
    "# embedding using word2vec model defined earlier\n",
    "def get_word_embeddings(tokens):\n",
    "    embeddings = []\n",
    "    for token in tokens:\n",
    "        if token in word2vec_model.wv:\n",
    "            embeddings.append(word2vec_model.wv[token])\n",
    "    return embeddings"
   ]
  },
  {
   "cell_type": "code",
   "execution_count": 21,
   "metadata": {},
   "outputs": [],
   "source": [
    "# Get the word embeddings for each row\n",
    "df['word_embeddings'] = df['tokenized_text'].apply(get_word_embeddings)"
   ]
  },
  {
   "cell_type": "markdown",
   "metadata": {},
   "source": [
    "#### Saving dataset"
   ]
  },
  {
   "cell_type": "code",
   "execution_count": 22,
   "metadata": {},
   "outputs": [],
   "source": [
    "# Save the vectorized dataset in csv format\n",
    "df.to_csv(\"vectorized_dataset.csv\", index=False)"
   ]
  },
  {
   "cell_type": "markdown",
   "metadata": {},
   "source": [
    "The file vectorized_dataset.csv contains the article data with column headings: (article_id, raw unmodified text, category, tokenized text, Word2Vec vectored tokenized text)\n",
    "\n",
    "The Word2Vec Vectored Tokenized text is contains the vectored form of each word in a sentence. One can preprocess the dataset further for their task specific requirements. Aggregating the vectored representation for sentence classification, for instance."
   ]
  },
  {
   "cell_type": "markdown",
   "metadata": {},
   "source": []
  }
 ],
 "metadata": {
  "kernelspec": {
   "display_name": "Python 3",
   "language": "python",
   "name": "python3"
  },
  "language_info": {
   "codemirror_mode": {
    "name": "ipython",
    "version": 3
   },
   "file_extension": ".py",
   "mimetype": "text/x-python",
   "name": "python",
   "nbconvert_exporter": "python",
   "pygments_lexer": "ipython3",
   "version": "3.10.6"
  }
 },
 "nbformat": 4,
 "nbformat_minor": 2
}
